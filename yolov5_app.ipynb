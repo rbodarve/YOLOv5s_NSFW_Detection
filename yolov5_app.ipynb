{
 "cells": [
  {
   "cell_type": "markdown",
   "id": "48f801ad",
   "metadata": {},
   "source": [
    "YOLOv5s Android Real-Time Detection Training"
   ]
  },
  {
   "cell_type": "code",
   "execution_count": null,
   "id": "3608f428",
   "metadata": {},
   "outputs": [],
   "source": []
  },
  {
   "cell_type": "markdown",
   "id": "21673329",
   "metadata": {},
   "source": []
  }
 ],
 "metadata": {
  "kernelspec": {
   "display_name": "Thesis",
   "language": "python",
   "name": "python3"
  },
  "language_info": {
   "codemirror_mode": {
    "name": "ipython",
    "version": 3
   },
   "file_extension": ".py",
   "mimetype": "text/x-python",
   "name": "python",
   "nbconvert_exporter": "python",
   "pygments_lexer": "ipython3",
   "version": "3.10.18"
  }
 },
 "nbformat": 4,
 "nbformat_minor": 5
}
