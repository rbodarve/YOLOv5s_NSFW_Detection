{
 "cells": [
  {
   "cell_type": "code",
   "execution_count": null,
   "id": "fa8b0cca",
   "metadata": {},
   "outputs": [],
   "source": [
    "import tensorflow as tf\n",
    "print(\"TensorFlow version:\", tf.__version__)\n",
    "print(\"GPUs available:\", tf.config.list_physical_devices('GPU'))\n",
    "print(\"Is torch cuda available\", torch.cuda.is_available()\n",
    "\n",
    "and\n",
    "\n",
    "torch.cuda.get_device_name(0)"
   ]
  },
  {
   "cell_type": "code",
   "execution_count": null,
   "id": "a7b8e0fd",
   "metadata": {},
   "outputs": [],
   "source": [
    "import tensorflow as tf\n",
    "import platform\n",
    "import subprocess\n",
    "import os\n",
    "\n",
    "tf.random.set_seed(73)\n",
    "TPU_INIT = False\n",
    "\n",
    "# Uncomment the following line to disable GPU support\n",
    "# os.environ[\"CUDA_VISIBLE_DEVICES\"] = \"-1\"\n",
    "\n",
    "# Configure TensorFlow to use GPU memory efficiently\n",
    "gpus = tf.config.experimental.list_physical_devices('GPU')\n",
    "if gpus:\n",
    "    try:\n",
    "        for gpu in gpus:\n",
    "            tf.config.experimental.set_memory_growth(gpu, True)\n",
    "        print(f\"{len(gpus)} GPU(s) found and configured.\")\n",
    "    except RuntimeError as e:\n",
    "        print(\"Error configuring GPU memory:\", e)\n",
    "else:\n",
    "    print(\"No GPU found by TensorFlow.\")\n",
    "\n",
    "# Check GPU status depending on OS\n",
    "system_platform = platform.system()\n",
    "if system_platform in ['Linux', 'Darwin', 'Windows']:\n",
    "    try:\n",
    "        result = subprocess.run([\"nvidia-smi\"], stdout=subprocess.PIPE, stderr=subprocess.PIPE, text=True)\n",
    "        if result.returncode == 0:\n",
    "            print(\"nvidia-smi output:\\n\", result.stdout)\n",
    "        else:\n",
    "            print(\"nvidia-smi not found or no NVIDIA GPU available.\")\n",
    "    except FileNotFoundError:\n",
    "        print(\"nvidia-smi not found. Make sure NVIDIA drivers are installed.\")\n",
    "else:\n",
    "    print(f\"No NVIDIA GPU check supported for platform: {system_platform}\")\n",
    "\n",
    "print(\"TensorFlow version:\", tf.__version__)\n"
   ]
  }
 ],
 "metadata": {
  "kernelspec": {
   "display_name": "Thesis",
   "language": "python",
   "name": "python3"
  },
  "language_info": {
   "name": "python",
   "version": "3.10.18"
  }
 },
 "nbformat": 4,
 "nbformat_minor": 5
}
